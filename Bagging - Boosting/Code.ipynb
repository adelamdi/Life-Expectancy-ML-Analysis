{
 "cells": [
  {
   "cell_type": "markdown",
   "id": "645904ea-8103-4f43-907f-ce7f60db1d3c",
   "metadata": {},
   "source": [
    "## Life expectancy prediction using DT and RF algorithm\n",
    "### Adel.AMD\n",
    "### November 2024"
   ]
  },
  {
   "cell_type": "markdown",
   "id": "7ecc1068-3c67-430f-9757-f3b9ed3a8c60",
   "metadata": {},
   "source": [
    "In this section, our main approach is using Bagging and Boosting methods for improving SVM,RF and DT accuracy."
   ]
  },
  {
   "cell_type": "markdown",
   "id": "0ece9b85-4d6f-4492-a5eb-212c61e74ed5",
   "metadata": {},
   "source": [
    "As always, lets load the cleaned dataset."
   ]
  },
  {
   "cell_type": "code",
   "execution_count": 1,
   "id": "fba9addd-3a6f-4bc6-9417-14aa5bce5410",
   "metadata": {},
   "outputs": [
    {
     "name": "stdout",
     "output_type": "stream",
     "text": [
      "Requirement already satisfied: kagglehub in /Users/adelahmadi/Documents/Anaconda/anaconda3/lib/python3.11/site-packages (0.3.1)\n",
      "Requirement already satisfied: packaging in /Users/adelahmadi/Documents/Anaconda/anaconda3/lib/python3.11/site-packages (from kagglehub) (23.1)\n",
      "Requirement already satisfied: requests in /Users/adelahmadi/Documents/Anaconda/anaconda3/lib/python3.11/site-packages (from kagglehub) (2.31.0)\n",
      "Requirement already satisfied: tqdm in /Users/adelahmadi/Documents/Anaconda/anaconda3/lib/python3.11/site-packages (from kagglehub) (4.65.0)\n",
      "Requirement already satisfied: charset-normalizer<4,>=2 in /Users/adelahmadi/Documents/Anaconda/anaconda3/lib/python3.11/site-packages (from requests->kagglehub) (2.0.4)\n",
      "Requirement already satisfied: idna<4,>=2.5 in /Users/adelahmadi/Documents/Anaconda/anaconda3/lib/python3.11/site-packages (from requests->kagglehub) (3.4)\n",
      "Requirement already satisfied: urllib3<3,>=1.21.1 in /Users/adelahmadi/Documents/Anaconda/anaconda3/lib/python3.11/site-packages (from requests->kagglehub) (1.26.18)\n",
      "Requirement already satisfied: certifi>=2017.4.17 in /Users/adelahmadi/Documents/Anaconda/anaconda3/lib/python3.11/site-packages (from requests->kagglehub) (2024.2.2)\n",
      "Note: you may need to restart the kernel to use updated packages.\n"
     ]
    }
   ],
   "source": [
    "pip install kagglehub"
   ]
  },
  {
   "cell_type": "code",
   "execution_count": 2,
   "id": "97b7033d-5e9f-48f4-8c9a-679bb90eec81",
   "metadata": {},
   "outputs": [
    {
     "name": "stdout",
     "output_type": "stream",
     "text": [
      "Warning: Looks like you're using an outdated `kagglehub` version, please consider updating (latest version: 0.3.4)\n",
      "Path to dataset files: /Users/adelahmadi/.cache/kagglehub/datasets/paperxd/cleaned-life-expectancy-dataset/versions/1\n",
      "File name: Cleaned-Life-Exp.csv\n"
     ]
    }
   ],
   "source": [
    "# Loading Dataset\n",
    "import kagglehub\n",
    "\n",
    "# Download latest version\n",
    "path = kagglehub.dataset_download(\"paperxd/cleaned-life-expectancy-dataset\")\n",
    "\n",
    "print(\"Path to dataset files:\", path)\n",
    "print(\"File name: Cleaned-Life-Exp.csv\")\n",
    "\n",
    "import pandas as pd\n",
    "import numpy as np\n",
    "import matplotlib.pyplot as plt\n",
    "\n",
    "filename = path + '/Cleaned-Life-Exp.csv'\n",
    "filename\n",
    "data = pd.read_csv(filename)"
   ]
  },
  {
   "cell_type": "markdown",
   "id": "873f2c9a-5d37-407d-a043-a3d36d7b510b",
   "metadata": {},
   "source": [
    "The dataset is already cleaned and preprocessed. so lets reformat our target variable. we use bins to achieve this goal, exactly like what we did in last projects (SVM, DT and RF)."
   ]
  },
  {
   "cell_type": "code",
   "execution_count": 3,
   "id": "60af9ceb-2e0c-4b01-b3f2-a2712b343a02",
   "metadata": {},
   "outputs": [],
   "source": [
    "# Binning countinues life expectancy\n",
    "bins = [-4,-1.5,0.5,3]\n",
    "labels = ['Low','Medium','High']\n",
    "data['lifeexp_category'] = pd.cut(data['Life expectancy'], bins = bins, labels = labels)"
   ]
  },
  {
   "cell_type": "markdown",
   "id": "cd04a6ca-d30a-4039-985b-201475b1befc",
   "metadata": {},
   "source": [
    "Lets create features and target variables and use train_test_split to split our data for train and test."
   ]
  },
  {
   "cell_type": "code",
   "execution_count": 4,
   "id": "4385c9bf-6a2a-4067-b3f5-325626482aca",
   "metadata": {},
   "outputs": [],
   "source": [
    "X = data.drop(['Life expectancy','lifeexp_category'],axis=1)\n",
    "X = pd.get_dummies(X, columns=['Country'], drop_first=True)\n",
    "Y = data['lifeexp_category']\n",
    "\n",
    "from sklearn.model_selection import train_test_split\n",
    "X_train, X_test, y_train, y_test = train_test_split(X, Y, test_size=0.2, random_state=2)"
   ]
  },
  {
   "cell_type": "markdown",
   "id": "56715f94-38bc-409f-856d-ea863d663563",
   "metadata": {},
   "source": [
    "Features Scaling:"
   ]
  },
  {
   "cell_type": "code",
   "execution_count": 5,
   "id": "0f4e60e6-7815-4805-a792-8ed147b92e8c",
   "metadata": {},
   "outputs": [],
   "source": [
    "from sklearn.preprocessing import StandardScaler\n",
    "scaler = StandardScaler()\n",
    "X_train_scaled = scaler.fit_transform(X_train)\n",
    "X_test_scaled = scaler.transform(X_test)"
   ]
  },
  {
   "cell_type": "markdown",
   "id": "ba658e01-6faa-4faa-b833-9a7a0878cb3f",
   "metadata": {},
   "source": [
    "* Bagging with SVM"
   ]
  },
  {
   "cell_type": "code",
   "execution_count": 6,
   "id": "4f68d9e7-a702-4b13-9990-0e6fe8c4efe1",
   "metadata": {},
   "outputs": [
    {
     "name": "stderr",
     "output_type": "stream",
     "text": [
      "/Users/adelahmadi/Documents/Anaconda/anaconda3/lib/python3.11/site-packages/sklearn/ensemble/_base.py:166: FutureWarning: `base_estimator` was renamed to `estimator` in version 1.2 and will be removed in 1.4.\n",
      "  warnings.warn(\n"
     ]
    },
    {
     "name": "stdout",
     "output_type": "stream",
     "text": [
      "Model Accuracy:\n",
      "              precision    recall  f1-score   support\n",
      "\n",
      "        High       0.90      0.85      0.88       218\n",
      "         Low       0.91      0.65      0.76        75\n",
      "      Medium       0.82      0.92      0.87       295\n",
      "\n",
      "    accuracy                           0.86       588\n",
      "   macro avg       0.88      0.81      0.83       588\n",
      "weighted avg       0.86      0.86      0.86       588\n",
      "\n",
      "Accuracy Score: 0.858843537414966\n"
     ]
    },
    {
     "data": {
      "image/png": "[encoded data removed]",
      "text/plain": [
       "<Figure size 640x480 with 2 Axes>"
      ]
     },
     "metadata": {},
     "output_type": "display_data"
    }
   ],
   "source": [
    "from sklearn.ensemble import BaggingClassifier, AdaBoostClassifier\n",
    "from sklearn.svm import SVC\n",
    "from sklearn.tree import DecisionTreeClassifier\n",
    "from sklearn.metrics import classification_report, confusion_matrix, accuracy_score\n",
    "import seaborn as sns\n",
    "\n",
    "bagging_svm = BaggingClassifier(\n",
    "    base_estimator=SVC(probability=True), \n",
    "    n_estimators=6,  \n",
    "    random_state=20\n",
    ")\n",
    "bagging_svm.fit(X_train_scaled, y_train)\n",
    "y_pred_bagging = bagging_svm.predict(X_test_scaled)\n",
    "\n",
    "print(\"Model Accuracy:\")\n",
    "print(classification_report(y_test, y_pred_bagging))\n",
    "print(\"Accuracy Score:\", accuracy_score(y_test, y_pred_bagging))\n",
    "\n",
    "# Confusion Matrix for Bagging SVM\n",
    "sns.heatmap(confusion_matrix(y_test, y_pred_bagging), annot=True, fmt='d', cmap='Blues')\n",
    "plt.title(\"Confusion Matrix\")\n",
    "plt.show()"
   ]
  },
  {
   "cell_type": "markdown",
   "id": "686589ce-b264-49c9-9c81-df9fc7f45682",
   "metadata": {},
   "source": [
    "* Boosting with DTs"
   ]
  },
  {
   "cell_type": "code",
   "execution_count": 7,
   "id": "9c0a9351-9ca2-4d2b-803a-0cd56627939b",
   "metadata": {},
   "outputs": [
    {
     "name": "stderr",
     "output_type": "stream",
     "text": [
      "/Users/adelahmadi/Documents/Anaconda/anaconda3/lib/python3.11/site-packages/sklearn/ensemble/_base.py:166: FutureWarning: `base_estimator` was renamed to `estimator` in version 1.2 and will be removed in 1.4.\n",
      "  warnings.warn(\n"
     ]
    },
    {
     "name": "stdout",
     "output_type": "stream",
     "text": [
      "Classification Report:\n",
      "              precision    recall  f1-score   support\n",
      "\n",
      "        High       0.86      0.90      0.88       218\n",
      "         Low       0.93      0.83      0.87        75\n",
      "      Medium       0.88      0.87      0.88       295\n",
      "\n",
      "    accuracy                           0.88       588\n",
      "   macro avg       0.89      0.87      0.88       588\n",
      "weighted avg       0.88      0.88      0.88       588\n",
      "\n",
      "Model Accuracy: 0.8792517006802721\n"
     ]
    },
    {
     "data": {
      "image/png": "[encoded data removed]",
      "text/plain": [
       "<Figure size 640x480 with 2 Axes>"
      ]
     },
     "metadata": {},
     "output_type": "display_data"
    }
   ],
   "source": [
    "boosting_dt = AdaBoostClassifier(\n",
    "    base_estimator=DecisionTreeClassifier(max_depth=5), \n",
    "    n_estimators=30,  # Weak learners\n",
    "    random_state=20\n",
    ")\n",
    "boosting_dt.fit(X_train, y_train)\n",
    "y_pred_boosting = boosting_dt.predict(X_test)\n",
    "\n",
    "print(\"Classification Report:\")\n",
    "print(classification_report(y_test, y_pred_boosting))\n",
    "print(\"Model Accuracy:\", accuracy_score(y_test, y_pred_boosting))\n",
    "\n",
    "# Confusion Matrix for Boosting DT\n",
    "sns.heatmap(confusion_matrix(y_test, y_pred_boosting), annot=True, fmt='d', cmap='Greens')\n",
    "plt.title(\"Confusion Matrix\")\n",
    "plt.show()"
   ]
  }
 ],
 "metadata": {
  "kernelspec": {
   "display_name": "Python 3 (ipykernel)",
   "language": "python",
   "name": "python3"
  },
  "language_info": {
   "codemirror_mode": {
    "name": "ipython",
    "version": 3
   },
   "file_extension": ".py",
   "mimetype": "text/x-python",
   "name": "python",
   "nbconvert_exporter": "python",
   "pygments_lexer": "ipython3",
   "version": "3.11.8"
  }
 },
 "nbformat": 4,
 "nbformat_minor": 5
}
