{
 "cells": [
  {
   "cell_type": "markdown",
   "id": "ac1cbef1-6819-47d5-bd7b-ea9f8e9d90ed",
   "metadata": {},
   "source": [
    "### Feature Selection With GA\n",
    "#### Adel Ahmadi"
   ]
  },
  {
   "cell_type": "markdown",
   "id": "7b6d0710-3141-441a-8559-b9dc4957ddeb",
   "metadata": {},
   "source": [
    "##### In this step, we try to use Genetic algorithm for feature selection. first, lets load data and our most accurate model from previous steps."
   ]
  },
  {
   "cell_type": "code",
   "execution_count": 1,
   "id": "4591cf94-99cb-48e2-9c43-15f01d44ce0b",
   "metadata": {},
   "outputs": [
    {
     "name": "stdout",
     "output_type": "stream",
     "text": [
      "Requirement already satisfied: kagglehub in /Users/adelahmadi/Documents/Anaconda/anaconda3/lib/python3.11/site-packages (0.3.1)\n",
      "Requirement already satisfied: packaging in /Users/adelahmadi/Documents/Anaconda/anaconda3/lib/python3.11/site-packages (from kagglehub) (23.1)\n",
      "Requirement already satisfied: requests in /Users/adelahmadi/Documents/Anaconda/anaconda3/lib/python3.11/site-packages (from kagglehub) (2.31.0)\n",
      "Requirement already satisfied: tqdm in /Users/adelahmadi/Documents/Anaconda/anaconda3/lib/python3.11/site-packages (from kagglehub) (4.65.0)\n",
      "Requirement already satisfied: charset-normalizer<4,>=2 in /Users/adelahmadi/Documents/Anaconda/anaconda3/lib/python3.11/site-packages (from requests->kagglehub) (2.0.4)\n",
      "Requirement already satisfied: idna<4,>=2.5 in /Users/adelahmadi/Documents/Anaconda/anaconda3/lib/python3.11/site-packages (from requests->kagglehub) (3.4)\n",
      "Requirement already satisfied: urllib3<3,>=1.21.1 in /Users/adelahmadi/Documents/Anaconda/anaconda3/lib/python3.11/site-packages (from requests->kagglehub) (1.26.18)\n",
      "Requirement already satisfied: certifi>=2017.4.17 in /Users/adelahmadi/Documents/Anaconda/anaconda3/lib/python3.11/site-packages (from requests->kagglehub) (2024.2.2)\n",
      "Note: you may need to restart the kernel to use updated packages.\n"
     ]
    }
   ],
   "source": [
    "pip install kagglehub"
   ]
  },
  {
   "cell_type": "code",
   "execution_count": 4,
   "id": "f99178b6-1816-483e-99a5-85f05dea378d",
   "metadata": {},
   "outputs": [
    {
     "name": "stdout",
     "output_type": "stream",
     "text": [
      "Warning: Looks like you're using an outdated `kagglehub` version, please consider updating (latest version: 0.3.4)\n",
      "Path to dataset files: /Users/adelahmadi/.cache/kagglehub/datasets/paperxd/cleaned-life-expectancy-dataset/versions/1\n",
      "File name: Cleaned-Life-Exp.csv\n"
     ]
    }
   ],
   "source": [
    "# Loading Dataset\n",
    "import kagglehub\n",
    "\n",
    "# Download latest version\n",
    "path = kagglehub.dataset_download(\"paperxd/cleaned-life-expectancy-dataset\")\n",
    "\n",
    "print(\"Path to dataset files:\", path)\n",
    "print(\"File name: Cleaned-Life-Exp.csv\")"
   ]
  },
  {
   "cell_type": "code",
   "execution_count": 5,
   "id": "47f6142f-8829-4af9-8c50-833930737980",
   "metadata": {},
   "outputs": [
    {
     "name": "stdout",
     "output_type": "stream",
     "text": [
      "              precision    recall  f1-score   support\n",
      "\n",
      "        High       0.93      0.92      0.93       317\n",
      "         Low       0.84      0.71      0.77        86\n",
      "      Medium       0.90      0.93      0.91       479\n",
      "\n",
      "    accuracy                           0.91       882\n",
      "   macro avg       0.89      0.85      0.87       882\n",
      "weighted avg       0.91      0.91      0.90       882\n",
      "\n",
      "SVM Accuracy: 0.9058956916099773\n"
     ]
    }
   ],
   "source": [
    "import pandas as pd\n",
    "import numpy as np\n",
    "import matplotlib.pyplot as plt\n",
    "filename = path + '/Cleaned-Life-Exp.csv'\n",
    "filename\n",
    "data = pd.read_csv(filename)\n",
    "# Binning countinues life expectancy\n",
    "bins = [-4,-1.5,0.5,3]\n",
    "labels = ['Low','Medium','High']\n",
    "data['lifeexp_category'] = pd.cut(data['Life expectancy'], bins = bins, labels = labels)\n",
    "X = data.drop(['Life expectancy','lifeexp_category'],axis=1)\n",
    "column_names = data.columns\n",
    "X = pd.get_dummies(X, columns=['Country'], drop_first=True)\n",
    "Y = data['lifeexp_category']\n",
    "from sklearn.model_selection import train_test_split\n",
    "X_Train, X_Test, Y_Train, Y_Test = train_test_split(X,Y,test_size = .3, random_state = 20)\n",
    "from sklearn.preprocessing import StandardScaler\n",
    "from sklearn.svm import SVC\n",
    "scaler = StandardScaler()\n",
    "X_Train_Scaled = scaler.fit_transform(X_Train)\n",
    "X_Test_Scaled = scaler.transform(X_Test)\n",
    "model = SVC(kernel='rbf', C=100, gamma=0.1)\n",
    "model.fit(X_Train_Scaled, Y_Train)\n",
    "from sklearn.metrics import classification_report\n",
    "from sklearn.metrics import accuracy_score\n",
    "y_predicted = model.predict(X_Test_Scaled)\n",
    "print(classification_report(Y_Test, y_predicted))\n",
    "svm_accuracy = accuracy_score(Y_Test, y_predicted)\n",
    "print('SVM Accuracy:',svm_accuracy)"
   ]
  },
  {
   "cell_type": "markdown",
   "id": "d556987b-6f7e-45af-a12f-3d6a87b5722c",
   "metadata": {},
   "source": [
    "Lets move on to feature selection with GA. First, we install sklearn-genetic."
   ]
  },
  {
   "cell_type": "code",
   "execution_count": 6,
   "id": "6970db9b-7e28-494f-9668-b1c2541aec07",
   "metadata": {},
   "outputs": [
    {
     "name": "stdout",
     "output_type": "stream",
     "text": [
      "Requirement already satisfied: sklearn-genetic in /Users/adelahmadi/Documents/Anaconda/anaconda3/lib/python3.11/site-packages (0.6.0)\n",
      "Requirement already satisfied: scikit-learn>=1.0 in /Users/adelahmadi/Documents/Anaconda/anaconda3/lib/python3.11/site-packages (from sklearn-genetic) (1.2.2)\n",
      "Requirement already satisfied: deap>=1.0.2 in /Users/adelahmadi/Documents/Anaconda/anaconda3/lib/python3.11/site-packages (from sklearn-genetic) (1.4.1)\n",
      "Requirement already satisfied: numpy in /Users/adelahmadi/Documents/Anaconda/anaconda3/lib/python3.11/site-packages (from sklearn-genetic) (1.26.4)\n",
      "Requirement already satisfied: multiprocess in /Users/adelahmadi/Documents/Anaconda/anaconda3/lib/python3.11/site-packages (from sklearn-genetic) (0.70.17)\n",
      "Requirement already satisfied: scipy>=1.3.2 in /Users/adelahmadi/Documents/Anaconda/anaconda3/lib/python3.11/site-packages (from scikit-learn>=1.0->sklearn-genetic) (1.11.4)\n",
      "Requirement already satisfied: joblib>=1.1.1 in /Users/adelahmadi/Documents/Anaconda/anaconda3/lib/python3.11/site-packages (from scikit-learn>=1.0->sklearn-genetic) (1.2.0)\n",
      "Requirement already satisfied: threadpoolctl>=2.0.0 in /Users/adelahmadi/Documents/Anaconda/anaconda3/lib/python3.11/site-packages (from scikit-learn>=1.0->sklearn-genetic) (2.2.0)\n",
      "Requirement already satisfied: dill>=0.3.9 in /Users/adelahmadi/Documents/Anaconda/anaconda3/lib/python3.11/site-packages (from multiprocess->sklearn-genetic) (0.3.9)\n",
      "Note: you may need to restart the kernel to use updated packages.\n"
     ]
    }
   ],
   "source": [
    "pip install sklearn-genetic"
   ]
  },
  {
   "cell_type": "code",
   "execution_count": 8,
   "id": "08fdc2ee-2d84-4fad-b4a7-85e33c8e07c2",
   "metadata": {},
   "outputs": [
    {
     "name": "stdout",
     "output_type": "stream",
     "text": [
      "Selecting features with genetic algorithm.\n",
      "gen\tnevals\tavg                            \tstd                            \tmin                            \tmax                               \n",
      "0  \t50    \t[ 0.565397  5.22      0.008447]\t[ 0.051547  2.900276  0.007978]\t[ 0.526264  1.        0.00098 ]\t[  0.704766  10.         0.031735]\n",
      "1  \t33    \t[-2199.524243     9.14      2200.01172 ]\t[ 4142.715703     5.051772  4142.456811]\t[-10000.            1.            0.002715]\t[     0.704766     24.        10000.      ]\n",
      "2  \t23    \t[-2199.496588     8.34      2200.009679]\t[ 4142.73039      4.777489  4142.457895]\t[-10000.            1.            0.002715]\t[     0.706715     23.        10000.      ]\n",
      "3  \t29    \t[-1599.436004     7.3       1600.007846]\t[ 3666.306704     5.85235   3666.057132]\t[-10000.           1.           0.00098]   \t[     0.720329     27.        10000.      ]\n",
      "4  \t34    \t[-1599.415332     5.82      1600.006181]\t[ 3666.315726     4.568107  3666.057858]\t[-10000.            2.            0.002732]\t[     0.734427     20.        10000.      ]\n",
      "5  \t29    \t[-1799.41575      6.44      1800.006452]\t[ 3842.148276     5.040476  3841.87152 ]\t[-10000.            3.            0.003691]\t[     0.74125     20.       10000.     ]   \n",
      "6  \t33    \t[-799.334972    5.98      800.009578]   \t[ 2713.128099     4.06197   2712.929169]\t[-10000.            3.            0.003691]\t[     0.836573     21.        10000.      ]\n",
      "7  \t25    \t[-2199.423727     9.3       2200.009426]\t[ 4142.769085     4.73392   4142.45803 ]\t[-10000.            3.            0.004359]\t[     0.840465     21.        10000.      ]\n",
      "8  \t38    \t[-2799.461178     9.96      2800.009307]\t[ 4490.324879     4.069201  4489.98306 ]\t[-10000.            4.            0.007011]\t[     0.840465     21.        10000.      ]\n",
      "9  \t31    \t[-2799.443551    11.3       2800.008702]\t[ 4490.335871     5.262129  4489.983437]\t[-10000.            4.            0.007011]\t[     0.855056     28.        10000.      ]\n",
      "10 \t29    \t[-2999.439505    11.52      3000.008918]\t[ 4582.942625     4.313885  4582.569857]\t[-10000.            6.            0.007011]\t[     0.855056     23.        10000.      ]\n",
      "11 \t30    \t[-2799.401627    11.4       2800.008352]\t[ 4490.362015     4.069398  4489.983656]\t[-10000.            7.            0.007011]\t[     0.855056     24.        10000.      ]\n",
      "12 \t32    \t[-2599.382327    12.18      2600.009022]\t[ 4386.708565     5.058419  4386.337092]\t[-10000.            8.            0.007011]\t[     0.855056     33.        10000.      ]\n",
      "13 \t30    \t[-2399.355819    11.44      2400.008759]\t[ 4271.193299     3.207242  4270.826379]\t[-10000.            9.            0.007011]\t[     0.855056     23.        10000.      ]\n",
      "14 \t39    \t[-2999.404719    12.38      3000.008338]\t[ 4582.965398     4.213739  4582.570236]\t[-10000.            9.            0.008444]\t[     0.855056     23.        10000.      ]\n",
      "15 \t33    \t[-2199.334982    12.24      2200.009343]\t[ 4142.816216     4.68      4142.458073]\t[-10000.            9.            0.008444]\t[     0.855056     28.        10000.      ]\n",
      "16 \t30    \t[-2999.401461    12.66      3000.008673]\t[ 4582.967531     4.273687  4582.570017]\t[-10000.          10.           0.01239]   \t[     0.855056     23.        10000.      ]\n",
      "17 \t32    \t[-2599.367258    12.2       2600.009169]\t[ 4386.717497     3.959798  4386.337005]\t[-10000.          10.           0.01239]   \t[     0.855056     25.        10000.      ]\n",
      "18 \t30    \t[-2999.401461    12.52      3000.008673]\t[ 4582.967531     4.22961   4582.570017]\t[-10000.          10.           0.01239]   \t[     0.855056     26.        10000.      ]\n",
      "19 \t29    \t[-1199.24755     11.2       1200.010904]\t[ 3249.893222     3.352611  3249.611335]\t[-10000.          10.           0.01239]   \t[     0.855056     23.        10000.      ]\n",
      "20 \t25    \t[-2799.384359    12.6       2800.008921]\t[ 4490.372783     4.516636  4489.983301]\t[-10000.          10.           0.01239]   \t[     0.855056     24.        10000.      ]\n",
      "21 \t21    \t[-1599.281753    11.68      1600.010408]\t[ 3666.374025     3.895844  3666.056014]\t[-10000.          10.           0.01239]   \t[     0.855056     22.        10000.      ]\n",
      "22 \t25    \t[-1199.24755     11.4       1200.010904]\t[ 3249.893222     3.929377  3249.611335]\t[-10000.          10.           0.01239]   \t[     0.855056     28.        10000.      ]\n",
      "23 \t21    \t[-1599.281753    11.54      1600.010408]\t[ 3666.374025     3.667206  3666.056014]\t[-10000.          10.           0.01239]   \t[     0.855056     24.        10000.      ]\n",
      "24 \t22    \t[-2399.350157    12.2       2400.009417]\t[ 4271.196481     4.142463  4270.826009]\t[-10000.          10.           0.01239]   \t[     0.855056     22.        10000.      ]\n",
      "25 \t32    \t[-2199.333056    12.        2200.009665]\t[ 4142.817239     4.156922  4142.457903]\t[-10000.          10.           0.01239]   \t[     0.855056     26.        10000.      ]\n",
      "26 \t30    \t[-2799.384359    12.94      2800.008921]\t[ 4490.372783     4.941295  4489.983301]\t[-10000.          10.           0.01239]   \t[     0.855056     25.        10000.      ]\n",
      "27 \t32    \t[-1999.315955    11.82      2000.009912]\t[ 4000.342023     3.766643  3999.995044]\t[-10000.          10.           0.01239]   \t[     0.855056     24.        10000.      ]\n",
      "28 \t32    \t[-1999.315955    11.96      2000.009912]\t[ 4000.342023     4.166341  3999.995044]\t[-10000.          10.           0.01239]   \t[     0.855056     24.        10000.      ]\n",
      "29 \t28    \t[-1799.298854    11.94      1800.01016 ]\t[ 3842.203044     4.178086  3841.869782]\t[-10000.          10.           0.01239]   \t[     0.855056     23.        10000.      ]\n",
      "30 \t25    \t[-1999.315955    12.        2000.009912]\t[ 4000.342023     4.147288  3999.995044]\t[-10000.          10.           0.01239]   \t[     0.855056     24.        10000.      ]\n",
      "31 \t35    \t[-2199.333056    12.66      2200.009665]\t[ 4142.817239     5.09749   4142.457903]\t[-10000.          10.           0.01239]   \t[     0.855056     26.        10000.      ]\n",
      "32 \t25    \t[-1799.298854    12.24      1800.01016 ]\t[ 3842.203044     5.101216  3841.869782]\t[-10000.          10.           0.01239]   \t[     0.855056     30.        10000.      ]\n",
      "33 \t33    \t[-2199.333056    12.16      2200.009665]\t[ 4142.817239     4.342165  4142.457903]\t[-10000.          10.           0.01239]   \t[     0.855056     25.        10000.      ]\n",
      "34 \t26    \t[-2799.384359    13.02      2800.008921]\t[ 4490.372783     5.186482  4489.983301]\t[-10000.          10.           0.01239]   \t[     0.855056     28.        10000.      ]\n",
      "35 \t23    \t[-2199.333056    12.4       2200.009665]\t[ 4142.817239     4.898979  4142.457903]\t[-10000.          10.           0.01239]   \t[     0.855056     29.        10000.      ]\n",
      "36 \t31    \t[-1599.281753    11.62      1600.010408]\t[ 3666.374025     3.923723  3666.056014]\t[-10000.          10.           0.01239]   \t[     0.855056     25.        10000.      ]\n",
      "37 \t26    \t[-2599.367258    12.3       2600.009169]\t[ 4386.717497     4.419276  4386.337005]\t[-10000.          10.           0.01239]   \t[     0.855056     28.        10000.      ]\n",
      "38 \t22    \t[-1999.315955    11.94      2000.009912]\t[ 4000.342023     4.03688   3999.995044]\t[-10000.          10.           0.01239]   \t[     0.855056     24.        10000.      ]\n",
      "39 \t36    \t[-2399.350157    11.7       2400.009417]\t[ 4271.196481     3.539774  4270.826009]\t[-10000.          10.           0.01239]   \t[     0.855056     24.        10000.      ]\n",
      "40 \t28    \t[-1399.264652    10.92      1400.010656]\t[ 3470.167008     2.711752  3469.866015]\t[-10000.          10.           0.01239]   \t[     0.855056     22.        10000.      ]\n",
      "41 \t35    \t[-1599.281753    11.6       1600.010408]\t[ 3666.374025     3.908964  3666.056014]\t[-10000.          10.           0.01239]   \t[     0.855056     25.        10000.      ]\n",
      "42 \t27    \t[-1999.315955    12.02      2000.009912]\t[ 4000.342023     4.291806  3999.995044]\t[-10000.          10.           0.01239]   \t[     0.855056     28.        10000.      ]\n",
      "43 \t26    \t[-2599.367258    12.7       2600.009169]\t[ 4386.717497     4.88774   4386.337005]\t[-10000.          10.           0.01239]   \t[     0.855056     26.        10000.      ]\n",
      "44 \t27    \t[-1599.281753    11.4       1600.010408]\t[ 3666.374025     3.255764  3666.056014]\t[-10000.          10.           0.01239]   \t[     0.855056     21.        10000.      ]\n",
      "45 \t27    \t[-1999.315955    11.84      2000.009912]\t[ 4000.342023     3.996799  3999.995044]\t[-10000.          10.           0.01239]   \t[     0.855056     24.        10000.      ]\n",
      "46 \t25    \t[-1399.264652    10.86      1400.010656]\t[ 3470.167008     2.253974  3469.866015]\t[-10000.          10.           0.01239]   \t[     0.855056     19.        10000.      ]\n",
      "47 \t30    \t[-2599.367258    12.38      2600.009169]\t[ 4386.717497     4.471644  4386.337005]\t[-10000.          10.           0.01239]   \t[     0.855056     28.        10000.      ]\n",
      "48 \t29    \t[-2599.367258    12.34      2600.009169]\t[ 4386.717497     4.22663   4386.337005]\t[-10000.          10.           0.01239]   \t[     0.855056     26.        10000.      ]\n",
      "49 \t33    \t[-2199.333056    12.06      2200.009665]\t[ 4142.817239     4.139614  4142.457903]\t[-10000.          10.           0.01239]   \t[     0.855056     24.        10000.      ]\n",
      "50 \t29    \t[-1599.281753    11.32      1600.010408]\t[ 3666.374025     3.120513  3666.056014]\t[-10000.          10.           0.01239]   \t[     0.855056     21.        10000.      ]\n",
      "Selected Features Recommended by GA: Index(['Adult Mortality', 'Alcohol', 'under-five deaths', 'Schooling',\n",
      "       'Country_Angola', 'Country_Austria', 'Country_Mozambique',\n",
      "       'Country_Pakistan', 'Country_Panama', 'Country_Tonga'],\n",
      "      dtype='object')\n",
      "              precision    recall  f1-score   support\n",
      "\n",
      "        High       0.82      0.87      0.85       317\n",
      "         Low       0.76      0.83      0.79        86\n",
      "      Medium       0.88      0.83      0.86       479\n",
      "\n",
      "    accuracy                           0.85       882\n",
      "   macro avg       0.82      0.84      0.83       882\n",
      "weighted avg       0.85      0.85      0.85       882\n",
      "\n",
      "SVM Model Accuracy After GA Feature Selection: 0.8458049886621315\n"
     ]
    }
   ],
   "source": [
    "from genetic_selection import GeneticSelectionCV\n",
    "from sklearn.svm import SVC\n",
    "from sklearn.metrics import classification_report, accuracy_score\n",
    "\n",
    "# SVM model\n",
    "model = SVC(kernel='rbf', C=100, gamma=0.1)\n",
    "\n",
    "# Genetic Algorithm for Feature Selection\n",
    "ga_selector = GeneticSelectionCV(\n",
    "    estimator=model,\n",
    "    cv=5,\n",
    "    verbose=1,\n",
    "    scoring=\"accuracy\",\n",
    "    max_features=min(10, X_Train_Scaled.shape[1]),  # Limiting max features\n",
    "    n_population=50,  # Number of individuals in the population\n",
    "    n_generations=50,  # Number of generations\n",
    "    crossover_proba=0.5,  # Probability of crossover\n",
    "    mutation_proba=0.2,  # Probability of mutation\n",
    "    n_jobs=-1  # Use all available cores\n",
    ")\n",
    "\n",
    "# Fit GA selector\n",
    "ga_selector = ga_selector.fit(X_Train_Scaled, Y_Train)\n",
    "\n",
    "# After GA feature selection, use the selected features (columns) from the original dataset (X_Train)\n",
    "selected_features = X.columns[ga_selector.support_]\n",
    "print(\"Selected Features Recommended by GA:\", selected_features)\n",
    "\n",
    "# Select columns based on the selected features from the original DataFrame (before scaling)\n",
    "X_Train_Selected = X_Train[selected_features]\n",
    "X_Test_Selected = X_Test[selected_features]\n",
    "\n",
    "# Scale the selected features\n",
    "X_Train_Selected_Scaled = scaler.fit_transform(X_Train_Selected)\n",
    "X_Test_Selected_Scaled = scaler.transform(X_Test_Selected)\n",
    "\n",
    "# Train SVM on the selected features\n",
    "model.fit(X_Train_Selected_Scaled, Y_Train)\n",
    "y_predicted_ga = model.predict(X_Test_Selected_Scaled)\n",
    "\n",
    "# Evaluate the model\n",
    "print(classification_report(Y_Test, y_predicted_ga))\n",
    "svm_ga_accuracy = accuracy_score(Y_Test, y_predicted_ga)\n",
    "print(\"SVM Model Accuracy After GA Feature Selection:\", svm_ga_accuracy)"
   ]
  }
 ],
 "metadata": {
  "kernelspec": {
   "display_name": "Python 3 (ipykernel)",
   "language": "python",
   "name": "python3"
  },
  "language_info": {
   "codemirror_mode": {
    "name": "ipython",
    "version": 3
   },
   "file_extension": ".py",
   "mimetype": "text/x-python",
   "name": "python",
   "nbconvert_exporter": "python",
   "pygments_lexer": "ipython3",
   "version": "3.11.8"
  }
 },
 "nbformat": 4,
 "nbformat_minor": 5
}
