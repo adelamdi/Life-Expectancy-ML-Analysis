{
 "cells": [
  {
   "cell_type": "markdown",
   "id": "49a2e47a-c1d4-4e29-a01a-7daa175b950d",
   "metadata": {},
   "source": [
    "## Life expectancy prediction using SVM algorithm\n",
    "### Adel.AMD\n",
    "### October 2024"
   ]
  },
  {
   "cell_type": "markdown",
   "id": "f207eaa1-d729-4c2f-8fec-3b44ce5db9e0",
   "metadata": {},
   "source": [
    "In this project, we aim to classify life expectancy into three categories: Low, Medium, and High, based on socio-economic and health-related data using cleaned-life-expectancy-dataset from WHO. To achieve this, we will apply Multi-Class Support Vector Machines (SVM) for classification."
   ]
  },
  {
   "cell_type": "markdown",
   "id": "c618d70f-5292-418b-b4a9-5138a9cc72a7",
   "metadata": {},
   "source": [
    "First, Lets install kagglehub so we can directly load dataset from kaggle."
   ]
  },
  {
   "cell_type": "code",
   "execution_count": 1,
   "id": "b5fa83d6-e8cd-4156-8364-e3ca3c322f58",
   "metadata": {},
   "outputs": [
    {
     "name": "stdout",
     "output_type": "stream",
     "text": [
      "Requirement already satisfied: kagglehub in /Users/adelahmadi/Documents/Anaconda/anaconda3/lib/python3.11/site-packages (0.3.1)\n",
      "Requirement already satisfied: packaging in /Users/adelahmadi/Documents/Anaconda/anaconda3/lib/python3.11/site-packages (from kagglehub) (23.1)\n",
      "Requirement already satisfied: requests in /Users/adelahmadi/Documents/Anaconda/anaconda3/lib/python3.11/site-packages (from kagglehub) (2.31.0)\n",
      "Requirement already satisfied: tqdm in /Users/adelahmadi/Documents/Anaconda/anaconda3/lib/python3.11/site-packages (from kagglehub) (4.65.0)\n",
      "Requirement already satisfied: charset-normalizer<4,>=2 in /Users/adelahmadi/Documents/Anaconda/anaconda3/lib/python3.11/site-packages (from requests->kagglehub) (2.0.4)\n",
      "Requirement already satisfied: idna<4,>=2.5 in /Users/adelahmadi/Documents/Anaconda/anaconda3/lib/python3.11/site-packages (from requests->kagglehub) (3.4)\n",
      "Requirement already satisfied: urllib3<3,>=1.21.1 in /Users/adelahmadi/Documents/Anaconda/anaconda3/lib/python3.11/site-packages (from requests->kagglehub) (1.26.18)\n",
      "Requirement already satisfied: certifi>=2017.4.17 in /Users/adelahmadi/Documents/Anaconda/anaconda3/lib/python3.11/site-packages (from requests->kagglehub) (2024.2.2)\n",
      "Note: you may need to restart the kernel to use updated packages.\n"
     ]
    }
   ],
   "source": [
    "pip install kagglehub"
   ]
  },
  {
   "cell_type": "markdown",
   "id": "aaf124fe-072c-4fbd-9d32-db8b2b662038",
   "metadata": {},
   "source": [
    "Now we can load the dataset directly from kaggle, using kagglehub package."
   ]
  },
  {
   "cell_type": "code",
   "execution_count": 2,
   "id": "7915885f-3d9b-44e4-adea-a8da3ba42852",
   "metadata": {},
   "outputs": [
    {
     "name": "stdout",
     "output_type": "stream",
     "text": [
      "Path to dataset files: /Users/adelahmadi/.cache/kagglehub/datasets/paperxd/cleaned-life-expectancy-dataset/versions/1\n",
      "File name: Cleaned-Life-Exp.csv\n"
     ]
    }
   ],
   "source": [
    "# Loading Dataset\n",
    "import kagglehub\n",
    "\n",
    "# Download latest version\n",
    "path = kagglehub.dataset_download(\"paperxd/cleaned-life-expectancy-dataset\")\n",
    "\n",
    "print(\"Path to dataset files:\", path)\n",
    "print(\"File name: Cleaned-Life-Exp.csv\")"
   ]
  },
  {
   "cell_type": "markdown",
   "id": "bb8449cd-0c5e-4eb2-8bad-ff9272523ff1",
   "metadata": {},
   "source": [
    "Now, we import some needed libraries that we use, like Pandas, Numpy and Matplotlib."
   ]
  },
  {
   "cell_type": "code",
   "execution_count": 3,
   "id": "2aa09ed5-b18f-4ffe-92e0-b8b55d38febb",
   "metadata": {},
   "outputs": [],
   "source": [
    "import pandas as pd\n",
    "import numpy as np\n",
    "import matplotlib.pyplot as plt"
   ]
  },
  {
   "cell_type": "markdown",
   "id": "e8155110-415d-4bc4-b24a-326d866fc55f",
   "metadata": {},
   "source": [
    "Lets load the dataset using pandas."
   ]
  },
  {
   "cell_type": "code",
   "execution_count": 4,
   "id": "40e6200f-5a3e-4c99-ab1a-3544c28b6ef0",
   "metadata": {},
   "outputs": [],
   "source": [
    "filename = path + '/Cleaned-Life-Exp.csv'\n",
    "filename\n",
    "data = pd.read_csv(filename)"
   ]
  },
  {
   "cell_type": "code",
   "execution_count": 5,
   "id": "b986c310-9c9e-472a-99a5-8ff9dd65f5a4",
   "metadata": {},
   "outputs": [
    {
     "data": {
      "text/html": [
       "<div>\n",
       "<style scoped>\n",
       "    .dataframe tbody tr th:only-of-type {\n",
       "        vertical-align: middle;\n",
       "    }\n",
       "\n",
       "    .dataframe tbody tr th {\n",
       "        vertical-align: top;\n",
       "    }\n",
       "\n",
       "    .dataframe thead th {\n",
       "        text-align: right;\n",
       "    }\n",
       "</style>\n",
       "<table border=\"1\" class=\"dataframe\">\n",
       "  <thead>\n",
       "    <tr style=\"text-align: right;\">\n",
       "      <th></th>\n",
       "      <th>Country</th>\n",
       "      <th>Year</th>\n",
       "      <th>Status</th>\n",
       "      <th>Life expectancy</th>\n",
       "      <th>Adult Mortality</th>\n",
       "      <th>infant deaths</th>\n",
       "      <th>Alcohol</th>\n",
       "      <th>percentage expenditure</th>\n",
       "      <th>Hepatitis B</th>\n",
       "      <th>Measles</th>\n",
       "      <th>...</th>\n",
       "      <th>Polio</th>\n",
       "      <th>Total expenditure</th>\n",
       "      <th>Diphtheria</th>\n",
       "      <th>HIV/AIDS</th>\n",
       "      <th>GDP</th>\n",
       "      <th>Population</th>\n",
       "      <th>thinness  1-19 years</th>\n",
       "      <th>thinness 5-9 years</th>\n",
       "      <th>Income composition of resources</th>\n",
       "      <th>Schooling</th>\n",
       "    </tr>\n",
       "  </thead>\n",
       "  <tbody>\n",
       "    <tr>\n",
       "      <th>0</th>\n",
       "      <td>Afghanistan</td>\n",
       "      <td>1.621762</td>\n",
       "      <td>-0.459399</td>\n",
       "      <td>-0.443691</td>\n",
       "      <td>0.790238</td>\n",
       "      <td>0.268824</td>\n",
       "      <td>-1.133571</td>\n",
       "      <td>-0.335570</td>\n",
       "      <td>-0.635971</td>\n",
       "      <td>-0.110384</td>\n",
       "      <td>...</td>\n",
       "      <td>-3.268019</td>\n",
       "      <td>0.889486</td>\n",
       "      <td>-0.730578</td>\n",
       "      <td>-0.323445</td>\n",
       "      <td>-0.483546</td>\n",
       "      <td>0.343993</td>\n",
       "      <td>2.796805</td>\n",
       "      <td>2.757185</td>\n",
       "      <td>-0.704483</td>\n",
       "      <td>-0.563614</td>\n",
       "    </tr>\n",
       "    <tr>\n",
       "      <th>1</th>\n",
       "      <td>Afghanistan</td>\n",
       "      <td>1.404986</td>\n",
       "      <td>-0.459399</td>\n",
       "      <td>-0.979279</td>\n",
       "      <td>0.854614</td>\n",
       "      <td>0.285786</td>\n",
       "      <td>-1.133571</td>\n",
       "      <td>-0.334441</td>\n",
       "      <td>-0.755661</td>\n",
       "      <td>-0.168124</td>\n",
       "      <td>...</td>\n",
       "      <td>-1.048077</td>\n",
       "      <td>0.897493</td>\n",
       "      <td>-0.857092</td>\n",
       "      <td>-0.323445</td>\n",
       "      <td>-0.481553</td>\n",
       "      <td>-0.203706</td>\n",
       "      <td>2.864687</td>\n",
       "      <td>2.801550</td>\n",
       "      <td>-0.718710</td>\n",
       "      <td>-0.593391</td>\n",
       "    </tr>\n",
       "    <tr>\n",
       "      <th>2</th>\n",
       "      <td>Afghanistan</td>\n",
       "      <td>1.188210</td>\n",
       "      <td>-0.459399</td>\n",
       "      <td>-0.979279</td>\n",
       "      <td>0.830473</td>\n",
       "      <td>0.302749</td>\n",
       "      <td>-1.133571</td>\n",
       "      <td>-0.334594</td>\n",
       "      <td>-0.675868</td>\n",
       "      <td>-0.173531</td>\n",
       "      <td>...</td>\n",
       "      <td>-0.877312</td>\n",
       "      <td>0.877476</td>\n",
       "      <td>-0.772749</td>\n",
       "      <td>-0.323445</td>\n",
       "      <td>-0.480218</td>\n",
       "      <td>0.311126</td>\n",
       "      <td>2.909942</td>\n",
       "      <td>2.845914</td>\n",
       "      <td>-0.747164</td>\n",
       "      <td>-0.623168</td>\n",
       "    </tr>\n",
       "    <tr>\n",
       "      <th>3</th>\n",
       "      <td>Afghanistan</td>\n",
       "      <td>0.971434</td>\n",
       "      <td>-0.459399</td>\n",
       "      <td>-1.021286</td>\n",
       "      <td>0.862660</td>\n",
       "      <td>0.328193</td>\n",
       "      <td>-1.133571</td>\n",
       "      <td>-0.332096</td>\n",
       "      <td>-0.556178</td>\n",
       "      <td>0.032045</td>\n",
       "      <td>...</td>\n",
       "      <td>-0.663856</td>\n",
       "      <td>1.033609</td>\n",
       "      <td>-0.646235</td>\n",
       "      <td>-0.323445</td>\n",
       "      <td>-0.477539</td>\n",
       "      <td>-0.148469</td>\n",
       "      <td>2.955197</td>\n",
       "      <td>2.912461</td>\n",
       "      <td>-0.780360</td>\n",
       "      <td>-0.652944</td>\n",
       "    </tr>\n",
       "    <tr>\n",
       "      <th>4</th>\n",
       "      <td>Afghanistan</td>\n",
       "      <td>0.754658</td>\n",
       "      <td>-0.459399</td>\n",
       "      <td>-1.052791</td>\n",
       "      <td>0.886801</td>\n",
       "      <td>0.345155</td>\n",
       "      <td>-1.133571</td>\n",
       "      <td>-0.367862</td>\n",
       "      <td>-0.516281</td>\n",
       "      <td>0.051757</td>\n",
       "      <td>...</td>\n",
       "      <td>-0.621165</td>\n",
       "      <td>0.773387</td>\n",
       "      <td>-0.604064</td>\n",
       "      <td>-0.323445</td>\n",
       "      <td>-0.520044</td>\n",
       "      <td>-0.160246</td>\n",
       "      <td>3.023079</td>\n",
       "      <td>2.956826</td>\n",
       "      <td>-0.823042</td>\n",
       "      <td>-0.742275</td>\n",
       "    </tr>\n",
       "    <tr>\n",
       "      <th>...</th>\n",
       "      <td>...</td>\n",
       "      <td>...</td>\n",
       "      <td>...</td>\n",
       "      <td>...</td>\n",
       "      <td>...</td>\n",
       "      <td>...</td>\n",
       "      <td>...</td>\n",
       "      <td>...</td>\n",
       "      <td>...</td>\n",
       "      <td>...</td>\n",
       "      <td>...</td>\n",
       "      <td>...</td>\n",
       "      <td>...</td>\n",
       "      <td>...</td>\n",
       "      <td>...</td>\n",
       "      <td>...</td>\n",
       "      <td>...</td>\n",
       "      <td>...</td>\n",
       "      <td>...</td>\n",
       "      <td>...</td>\n",
       "      <td>...</td>\n",
       "    </tr>\n",
       "    <tr>\n",
       "      <th>2933</th>\n",
       "      <td>Zimbabwe</td>\n",
       "      <td>-0.762774</td>\n",
       "      <td>-0.459399</td>\n",
       "      <td>-2.617549</td>\n",
       "      <td>4.491830</td>\n",
       "      <td>-0.028022</td>\n",
       "      <td>-0.059941</td>\n",
       "      <td>-0.371433</td>\n",
       "      <td>-0.516281</td>\n",
       "      <td>-0.208332</td>\n",
       "      <td>...</td>\n",
       "      <td>-0.663856</td>\n",
       "      <td>0.477133</td>\n",
       "      <td>-0.730578</td>\n",
       "      <td>6.275044</td>\n",
       "      <td>-0.492650</td>\n",
       "      <td>0.000396</td>\n",
       "      <td>1.031873</td>\n",
       "      <td>1.004786</td>\n",
       "      <td>-1.045932</td>\n",
       "      <td>-0.831606</td>\n",
       "    </tr>\n",
       "    <tr>\n",
       "      <th>2934</th>\n",
       "      <td>Zimbabwe</td>\n",
       "      <td>-0.979550</td>\n",
       "      <td>-0.459399</td>\n",
       "      <td>-2.596545</td>\n",
       "      <td>4.427455</td>\n",
       "      <td>-0.036503</td>\n",
       "      <td>-0.133984</td>\n",
       "      <td>-0.371433</td>\n",
       "      <td>-2.949977</td>\n",
       "      <td>-0.123991</td>\n",
       "      <td>...</td>\n",
       "      <td>-3.225328</td>\n",
       "      <td>0.232924</td>\n",
       "      <td>-0.604064</td>\n",
       "      <td>6.885650</td>\n",
       "      <td>-0.492722</td>\n",
       "      <td>-0.001959</td>\n",
       "      <td>1.122383</td>\n",
       "      <td>1.115698</td>\n",
       "      <td>-0.993766</td>\n",
       "      <td>-0.742275</td>\n",
       "    </tr>\n",
       "    <tr>\n",
       "      <th>2935</th>\n",
       "      <td>Zimbabwe</td>\n",
       "      <td>-1.196326</td>\n",
       "      <td>-0.459399</td>\n",
       "      <td>-2.565040</td>\n",
       "      <td>-0.738680</td>\n",
       "      <td>-0.044984</td>\n",
       "      <td>-0.042664</td>\n",
       "      <td>-0.371433</td>\n",
       "      <td>-0.316798</td>\n",
       "      <td>-0.184521</td>\n",
       "      <td>...</td>\n",
       "      <td>-0.407709</td>\n",
       "      <td>0.236927</td>\n",
       "      <td>-0.477551</td>\n",
       "      <td>7.496256</td>\n",
       "      <td>-0.520477</td>\n",
       "      <td>-0.207018</td>\n",
       "      <td>-0.823568</td>\n",
       "      <td>-0.791977</td>\n",
       "      <td>-0.951085</td>\n",
       "      <td>-0.593391</td>\n",
       "    </tr>\n",
       "    <tr>\n",
       "      <th>2936</th>\n",
       "      <td>Zimbabwe</td>\n",
       "      <td>-1.413102</td>\n",
       "      <td>-0.459399</td>\n",
       "      <td>-2.512532</td>\n",
       "      <td>4.194093</td>\n",
       "      <td>-0.044984</td>\n",
       "      <td>-0.711523</td>\n",
       "      <td>-0.371433</td>\n",
       "      <td>-0.197108</td>\n",
       "      <td>-0.164897</td>\n",
       "      <td>...</td>\n",
       "      <td>-0.279635</td>\n",
       "      <td>0.088800</td>\n",
       "      <td>-0.308866</td>\n",
       "      <td>7.949287</td>\n",
       "      <td>-0.486046</td>\n",
       "      <td>-0.006348</td>\n",
       "      <td>-0.733059</td>\n",
       "      <td>-0.703248</td>\n",
       "      <td>-0.951085</td>\n",
       "      <td>-0.652944</td>\n",
       "    </tr>\n",
       "    <tr>\n",
       "      <th>2937</th>\n",
       "      <td>Zimbabwe</td>\n",
       "      <td>-1.629878</td>\n",
       "      <td>-0.459399</td>\n",
       "      <td>-2.439020</td>\n",
       "      <td>4.025108</td>\n",
       "      <td>-0.053466</td>\n",
       "      <td>-0.721396</td>\n",
       "      <td>-0.371433</td>\n",
       "      <td>-0.077418</td>\n",
       "      <td>-0.081689</td>\n",
       "      <td>...</td>\n",
       "      <td>-0.194253</td>\n",
       "      <td>0.465123</td>\n",
       "      <td>-0.182352</td>\n",
       "      <td>8.225045</td>\n",
       "      <td>-0.486132</td>\n",
       "      <td>-0.008707</td>\n",
       "      <td>1.393911</td>\n",
       "      <td>1.404067</td>\n",
       "      <td>-0.917889</td>\n",
       "      <td>-0.652944</td>\n",
       "    </tr>\n",
       "  </tbody>\n",
       "</table>\n",
       "<p>2938 rows × 22 columns</p>\n",
       "</div>"
      ],
      "text/plain": [
       "          Country      Year    Status  Life expectancy  Adult Mortality  \\\n",
       "0     Afghanistan  1.621762 -0.459399        -0.443691         0.790238   \n",
       "1     Afghanistan  1.404986 -0.459399        -0.979279         0.854614   \n",
       "2     Afghanistan  1.188210 -0.459399        -0.979279         0.830473   \n",
       "3     Afghanistan  0.971434 -0.459399        -1.021286         0.862660   \n",
       "4     Afghanistan  0.754658 -0.459399        -1.052791         0.886801   \n",
       "...           ...       ...       ...              ...              ...   \n",
       "2933     Zimbabwe -0.762774 -0.459399        -2.617549         4.491830   \n",
       "2934     Zimbabwe -0.979550 -0.459399        -2.596545         4.427455   \n",
       "2935     Zimbabwe -1.196326 -0.459399        -2.565040        -0.738680   \n",
       "2936     Zimbabwe -1.413102 -0.459399        -2.512532         4.194093   \n",
       "2937     Zimbabwe -1.629878 -0.459399        -2.439020         4.025108   \n",
       "\n",
       "      infant deaths   Alcohol  percentage expenditure  Hepatitis B   Measles  \\\n",
       "0          0.268824 -1.133571               -0.335570    -0.635971 -0.110384   \n",
       "1          0.285786 -1.133571               -0.334441    -0.755661 -0.168124   \n",
       "2          0.302749 -1.133571               -0.334594    -0.675868 -0.173531   \n",
       "3          0.328193 -1.133571               -0.332096    -0.556178  0.032045   \n",
       "4          0.345155 -1.133571               -0.367862    -0.516281  0.051757   \n",
       "...             ...       ...                     ...          ...       ...   \n",
       "2933      -0.028022 -0.059941               -0.371433    -0.516281 -0.208332   \n",
       "2934      -0.036503 -0.133984               -0.371433    -2.949977 -0.123991   \n",
       "2935      -0.044984 -0.042664               -0.371433    -0.316798 -0.184521   \n",
       "2936      -0.044984 -0.711523               -0.371433    -0.197108 -0.164897   \n",
       "2937      -0.053466 -0.721396               -0.371433    -0.077418 -0.081689   \n",
       "\n",
       "      ...     Polio  Total expenditure  Diphtheria  HIV/AIDS       GDP  \\\n",
       "0     ... -3.268019           0.889486   -0.730578 -0.323445 -0.483546   \n",
       "1     ... -1.048077           0.897493   -0.857092 -0.323445 -0.481553   \n",
       "2     ... -0.877312           0.877476   -0.772749 -0.323445 -0.480218   \n",
       "3     ... -0.663856           1.033609   -0.646235 -0.323445 -0.477539   \n",
       "4     ... -0.621165           0.773387   -0.604064 -0.323445 -0.520044   \n",
       "...   ...       ...                ...         ...       ...       ...   \n",
       "2933  ... -0.663856           0.477133   -0.730578  6.275044 -0.492650   \n",
       "2934  ... -3.225328           0.232924   -0.604064  6.885650 -0.492722   \n",
       "2935  ... -0.407709           0.236927   -0.477551  7.496256 -0.520477   \n",
       "2936  ... -0.279635           0.088800   -0.308866  7.949287 -0.486046   \n",
       "2937  ... -0.194253           0.465123   -0.182352  8.225045 -0.486132   \n",
       "\n",
       "      Population  thinness  1-19 years  thinness 5-9 years  \\\n",
       "0       0.343993              2.796805            2.757185   \n",
       "1      -0.203706              2.864687            2.801550   \n",
       "2       0.311126              2.909942            2.845914   \n",
       "3      -0.148469              2.955197            2.912461   \n",
       "4      -0.160246              3.023079            2.956826   \n",
       "...          ...                   ...                 ...   \n",
       "2933    0.000396              1.031873            1.004786   \n",
       "2934   -0.001959              1.122383            1.115698   \n",
       "2935   -0.207018             -0.823568           -0.791977   \n",
       "2936   -0.006348             -0.733059           -0.703248   \n",
       "2937   -0.008707              1.393911            1.404067   \n",
       "\n",
       "      Income composition of resources  Schooling  \n",
       "0                           -0.704483  -0.563614  \n",
       "1                           -0.718710  -0.593391  \n",
       "2                           -0.747164  -0.623168  \n",
       "3                           -0.780360  -0.652944  \n",
       "4                           -0.823042  -0.742275  \n",
       "...                               ...        ...  \n",
       "2933                        -1.045932  -0.831606  \n",
       "2934                        -0.993766  -0.742275  \n",
       "2935                        -0.951085  -0.593391  \n",
       "2936                        -0.951085  -0.652944  \n",
       "2937                        -0.917889  -0.652944  \n",
       "\n",
       "[2938 rows x 22 columns]"
      ]
     },
     "execution_count": 5,
     "metadata": {},
     "output_type": "execute_result"
    }
   ],
   "source": [
    "data"
   ]
  },
  {
   "cell_type": "markdown",
   "id": "6dc13149-ea10-40f7-844a-3395ad1a77c0",
   "metadata": {},
   "source": [
    "This dataset is already cleaned (complete explanation on dataset kaggle page), so we skip some parts of data cleaning and move on.\n",
    "Right now, target variable type is countinues numeric number. lets get min and max."
   ]
  },
  {
   "cell_type": "code",
   "execution_count": 10,
   "id": "37fc0458-c1c6-4a83-a025-dda5e69bf491",
   "metadata": {},
   "outputs": [
    {
     "name": "stdout",
     "output_type": "stream",
     "text": [
      "Minimum: -3.4576872896992716\n",
      "Maximum: 2.076724197034914\n"
     ]
    }
   ],
   "source": [
    "print('Minimum:',min(data['Life expectancy']))\n",
    "print('Maximum:',max(data['Life expectancy']))"
   ]
  },
  {
   "cell_type": "markdown",
   "id": "efd09c57-8012-4248-89de-a6e50568cd50",
   "metadata": {},
   "source": [
    "So, values are between -4 and 3. Lets bin this continues values to categories."
   ]
  },
  {
   "cell_type": "code",
   "execution_count": 11,
   "id": "6924fd22-c416-45e5-a0ce-e0d8d312764c",
   "metadata": {},
   "outputs": [],
   "source": [
    "# Binning countinues life expectancy\n",
    "bins = [-4,-1.5,0.5,3]\n",
    "labels = ['Low','Medium','High']\n",
    "data['lifeexp_category'] = pd.cut(data['Life expectancy'], bins = bins, labels = labels)"
   ]
  },
  {
   "cell_type": "markdown",
   "id": "ba06bf45-7ad4-4058-bfe6-f08084260c7c",
   "metadata": {},
   "source": [
    "Now, we drop target variable from SVM algorithm features."
   ]
  },
  {
   "cell_type": "code",
   "execution_count": 12,
   "id": "1786121f-1f17-476f-85c6-1dbee10d6434",
   "metadata": {},
   "outputs": [],
   "source": [
    "X = data.drop(['Life expectancy','lifeexp_category'],axis=1)"
   ]
  },
  {
   "cell_type": "markdown",
   "id": "633f45e3-ddd4-452b-b172-013550324912",
   "metadata": {},
   "source": [
    "We need to do one more thing related to features, Country values are string and need to be encoded, we use One-hot encoding to encode country names."
   ]
  },
  {
   "cell_type": "code",
   "execution_count": 13,
   "id": "51331d1b-e907-4fa4-91f6-6032881ec688",
   "metadata": {},
   "outputs": [],
   "source": [
    "X = pd.get_dummies(X, columns=['Country'], drop_first=True)"
   ]
  },
  {
   "cell_type": "markdown",
   "id": "4acdb579-ba84-4bf9-b7a0-b97d23f51660",
   "metadata": {},
   "source": [
    "Our target variable for this algorithm is lifeexp_category, created above."
   ]
  },
  {
   "cell_type": "code",
   "execution_count": 15,
   "id": "e414ca96-2661-4e39-ae83-eb7ff8eba425",
   "metadata": {},
   "outputs": [],
   "source": [
    "Y = data['lifeexp_category']"
   ]
  },
  {
   "cell_type": "markdown",
   "id": "7c1eaac6-7450-4a32-98ea-184beb63c4fb",
   "metadata": {},
   "source": [
    "Now, we split our dataset for train and test values. We select %30 of data for testing."
   ]
  },
  {
   "cell_type": "code",
   "execution_count": 16,
   "id": "f89dda91-234e-4b53-b788-d71f925a2fef",
   "metadata": {},
   "outputs": [],
   "source": [
    "from sklearn.model_selection import train_test_split"
   ]
  },
  {
   "cell_type": "code",
   "execution_count": 17,
   "id": "b0864e93-a659-4836-8f02-1995ba62bc3b",
   "metadata": {},
   "outputs": [],
   "source": [
    "X_Train, X_Test, Y_Train, Y_Test = train_test_split(X,Y,test_size = .3, random_state = 20)"
   ]
  },
  {
   "cell_type": "markdown",
   "id": "2bfbf99c-583e-44ed-be53-ad981698081a",
   "metadata": {},
   "source": [
    "Lets countinue and scale our feature variables. First we need to import related libraries."
   ]
  },
  {
   "cell_type": "code",
   "execution_count": 18,
   "id": "9a7bc728-d935-4d8a-8a47-7216cd9a932e",
   "metadata": {},
   "outputs": [],
   "source": [
    "from sklearn.preprocessing import StandardScaler\n",
    "from sklearn.svm import SVC"
   ]
  },
  {
   "cell_type": "code",
   "execution_count": 21,
   "id": "3d379c8c-da6f-49e5-93a1-749dd1d38ae5",
   "metadata": {},
   "outputs": [],
   "source": [
    "scaler = StandardScaler()\n",
    "X_Train_Scaled = scaler.fit_transform(X_Train)\n",
    "X_Test_Scaled = scaler.transform(X_Test)"
   ]
  },
  {
   "cell_type": "markdown",
   "id": "39bd3a52-e13c-405c-9b51-9e10a05e6540",
   "metadata": {},
   "source": [
    "Now we can train the model using model.fit() function. for now, we choose some random hyper parameters and at the end we utilize grid search for finding optimal hyper-parameters."
   ]
  },
  {
   "cell_type": "code",
   "execution_count": 22,
   "id": "5ba35ea3-b2b1-4a36-9445-399ccc10779b",
   "metadata": {},
   "outputs": [
    {
     "data": {
      "text/html": [
       "<style>#sk-container-id-1 {color: black;background-color: white;}#sk-container-id-1 pre{padding: 0;}#sk-container-id-1 div.sk-toggleable {background-color: white;}#sk-container-id-1 label.sk-toggleable__label {cursor: pointer;display: block;width: 100%;margin-bottom: 0;padding: 0.3em;box-sizing: border-box;text-align: center;}#sk-container-id-1 label.sk-toggleable__label-arrow:before {content: \"▸\";float: left;margin-right: 0.25em;color: #696969;}#sk-container-id-1 label.sk-toggleable__label-arrow:hover:before {color: black;}#sk-container-id-1 div.sk-estimator:hover label.sk-toggleable__label-arrow:before {color: black;}#sk-container-id-1 div.sk-toggleable__content {max-height: 0;max-width: 0;overflow: hidden;text-align: left;background-color: #f0f8ff;}#sk-container-id-1 div.sk-toggleable__content pre {margin: 0.2em;color: black;border-radius: 0.25em;background-color: #f0f8ff;}#sk-container-id-1 input.sk-toggleable__control:checked~div.sk-toggleable__content {max-height: 200px;max-width: 100%;overflow: auto;}#sk-container-id-1 input.sk-toggleable__control:checked~label.sk-toggleable__label-arrow:before {content: \"▾\";}#sk-container-id-1 div.sk-estimator input.sk-toggleable__control:checked~label.sk-toggleable__label {background-color: #d4ebff;}#sk-container-id-1 div.sk-label input.sk-toggleable__control:checked~label.sk-toggleable__label {background-color: #d4ebff;}#sk-container-id-1 input.sk-hidden--visually {border: 0;clip: rect(1px 1px 1px 1px);clip: rect(1px, 1px, 1px, 1px);height: 1px;margin: -1px;overflow: hidden;padding: 0;position: absolute;width: 1px;}#sk-container-id-1 div.sk-estimator {font-family: monospace;background-color: #f0f8ff;border: 1px dotted black;border-radius: 0.25em;box-sizing: border-box;margin-bottom: 0.5em;}#sk-container-id-1 div.sk-estimator:hover {background-color: #d4ebff;}#sk-container-id-1 div.sk-parallel-item::after {content: \"\";width: 100%;border-bottom: 1px solid gray;flex-grow: 1;}#sk-container-id-1 div.sk-label:hover label.sk-toggleable__label {background-color: #d4ebff;}#sk-container-id-1 div.sk-serial::before {content: \"\";position: absolute;border-left: 1px solid gray;box-sizing: border-box;top: 0;bottom: 0;left: 50%;z-index: 0;}#sk-container-id-1 div.sk-serial {display: flex;flex-direction: column;align-items: center;background-color: white;padding-right: 0.2em;padding-left: 0.2em;position: relative;}#sk-container-id-1 div.sk-item {position: relative;z-index: 1;}#sk-container-id-1 div.sk-parallel {display: flex;align-items: stretch;justify-content: center;background-color: white;position: relative;}#sk-container-id-1 div.sk-item::before, #sk-container-id-1 div.sk-parallel-item::before {content: \"\";position: absolute;border-left: 1px solid gray;box-sizing: border-box;top: 0;bottom: 0;left: 50%;z-index: -1;}#sk-container-id-1 div.sk-parallel-item {display: flex;flex-direction: column;z-index: 1;position: relative;background-color: white;}#sk-container-id-1 div.sk-parallel-item:first-child::after {align-self: flex-end;width: 50%;}#sk-container-id-1 div.sk-parallel-item:last-child::after {align-self: flex-start;width: 50%;}#sk-container-id-1 div.sk-parallel-item:only-child::after {width: 0;}#sk-container-id-1 div.sk-dashed-wrapped {border: 1px dashed gray;margin: 0 0.4em 0.5em 0.4em;box-sizing: border-box;padding-bottom: 0.4em;background-color: white;}#sk-container-id-1 div.sk-label label {font-family: monospace;font-weight: bold;display: inline-block;line-height: 1.2em;}#sk-container-id-1 div.sk-label-container {text-align: center;}#sk-container-id-1 div.sk-container {/* jupyter's `normalize.less` sets `[hidden] { display: none; }` but bootstrap.min.css set `[hidden] { display: none !important; }` so we also need the `!important` here to be able to override the default hidden behavior on the sphinx rendered scikit-learn.org. See: https://github.com/scikit-learn/scikit-learn/issues/21755 */display: inline-block !important;position: relative;}#sk-container-id-1 div.sk-text-repr-fallback {display: none;}</style><div id=\"sk-container-id-1\" class=\"sk-top-container\"><div class=\"sk-text-repr-fallback\"><pre>SVC(C=100, gamma=0.1)</pre><b>In a Jupyter environment, please rerun this cell to show the HTML representation or trust the notebook. <br />On GitHub, the HTML representation is unable to render, please try loading this page with nbviewer.org.</b></div><div class=\"sk-container\" hidden><div class=\"sk-item\"><div class=\"sk-estimator sk-toggleable\"><input class=\"sk-toggleable__control sk-hidden--visually\" id=\"sk-estimator-id-1\" type=\"checkbox\" checked><label for=\"sk-estimator-id-1\" class=\"sk-toggleable__label sk-toggleable__label-arrow\">SVC</label><div class=\"sk-toggleable__content\"><pre>SVC(C=100, gamma=0.1)</pre></div></div></div></div></div>"
      ],
      "text/plain": [
       "SVC(C=100, gamma=0.1)"
      ]
     },
     "execution_count": 22,
     "metadata": {},
     "output_type": "execute_result"
    }
   ],
   "source": [
    "model = SVC(kernel='rbf', C=100, gamma=0.1)\n",
    "model.fit(X_train_scaled, Y_Train)"
   ]
  },
  {
   "cell_type": "markdown",
   "id": "2cf5f3c4-bef8-4f05-bcec-d0595cf9a658",
   "metadata": {},
   "source": [
    "We can import classification_report from sklearn to print model exact accuracy, f1 score and etc..."
   ]
  },
  {
   "cell_type": "code",
   "execution_count": 23,
   "id": "9c4fbdd9-f79a-4f19-925b-5878cbf157b1",
   "metadata": {},
   "outputs": [],
   "source": [
    "from sklearn.metrics import classification_report"
   ]
  },
  {
   "cell_type": "markdown",
   "id": "699e140e-8edc-4621-88b7-f8362137eaa9",
   "metadata": {},
   "source": [
    "Now we predict the test data to evaluate model accuracy."
   ]
  },
  {
   "cell_type": "code",
   "execution_count": 25,
   "id": "6dda20ef-a635-4a88-9e02-024f72f6bc7b",
   "metadata": {},
   "outputs": [
    {
     "name": "stdout",
     "output_type": "stream",
     "text": [
      "              precision    recall  f1-score   support\n",
      "\n",
      "        High       0.93      0.92      0.93       317\n",
      "         Low       0.84      0.71      0.77        86\n",
      "      Medium       0.90      0.93      0.91       479\n",
      "\n",
      "    accuracy                           0.91       882\n",
      "   macro avg       0.89      0.85      0.87       882\n",
      "weighted avg       0.91      0.91      0.90       882\n",
      "\n"
     ]
    }
   ],
   "source": [
    "y_predicted = model.predict(X_Test_Scaled)\n",
    "print(classification_report(Y_Test, y_predicted))"
   ]
  },
  {
   "cell_type": "markdown",
   "id": "ba7f58fa-1ba0-49b6-b659-382770c86190",
   "metadata": {},
   "source": [
    "Lets print our confusion matrix to evaluate model prediction."
   ]
  },
  {
   "cell_type": "code",
   "execution_count": 27,
   "id": "7aa63b1f-cc0d-4f82-a60a-bc7da0f3bfa8",
   "metadata": {},
   "outputs": [
    {
     "data": {
      "text/plain": [
       "array([[292,   0,  25],\n",
       "       [  0,  61,  25],\n",
       "       [ 21,  12, 446]])"
      ]
     },
     "execution_count": 27,
     "metadata": {},
     "output_type": "execute_result"
    }
   ],
   "source": [
    "from sklearn import metrics\n",
    "confusion_matrix = metrics.confusion_matrix(Y_Test, y_predicted)\n",
    "confusion_matrix"
   ]
  },
  {
   "cell_type": "markdown",
   "id": "430a6257-9737-4f21-94f8-edc1336391cf",
   "metadata": {},
   "source": [
    "Great! Main diagonal values are greater than other values in row. this is a good sign for model but we use grid search to calculate optimal hyper-parameters."
   ]
  },
  {
   "cell_type": "code",
   "execution_count": 29,
   "id": "6f0f852e-c820-4f94-997f-2fbaeecbe6b2",
   "metadata": {},
   "outputs": [
    {
     "name": "stdout",
     "output_type": "stream",
     "text": [
      "Fitting 5 folds for each of 32 candidates, totalling 160 fits\n",
      "[CV] END .........................C=0.1, gamma=1, kernel=rbf; total time=   0.5s\n",
      "[CV] END .........................C=0.1, gamma=1, kernel=rbf; total time=   0.4s\n",
      "[CV] END .........................C=0.1, gamma=1, kernel=rbf; total time=   0.4s\n",
      "[CV] END .........................C=0.1, gamma=1, kernel=rbf; total time=   0.4s\n",
      "[CV] END .........................C=0.1, gamma=1, kernel=rbf; total time=   0.4s\n",
      "[CV] END ......................C=0.1, gamma=1, kernel=linear; total time=   0.1s\n",
      "[CV] END ......................C=0.1, gamma=1, kernel=linear; total time=   0.1s\n",
      "[CV] END ......................C=0.1, gamma=1, kernel=linear; total time=   0.1s\n",
      "[CV] END ......................C=0.1, gamma=1, kernel=linear; total time=   0.1s\n",
      "[CV] END ......................C=0.1, gamma=1, kernel=linear; total time=   0.1s\n",
      "[CV] END .......................C=0.1, gamma=0.1, kernel=rbf; total time=   0.4s\n",
      "[CV] END .......................C=0.1, gamma=0.1, kernel=rbf; total time=   0.4s\n",
      "[CV] END .......................C=0.1, gamma=0.1, kernel=rbf; total time=   0.4s\n",
      "[CV] END .......................C=0.1, gamma=0.1, kernel=rbf; total time=   0.4s\n",
      "[CV] END .......................C=0.1, gamma=0.1, kernel=rbf; total time=   0.4s\n",
      "[CV] END ....................C=0.1, gamma=0.1, kernel=linear; total time=   0.1s\n",
      "[CV] END ....................C=0.1, gamma=0.1, kernel=linear; total time=   0.1s\n",
      "[CV] END ....................C=0.1, gamma=0.1, kernel=linear; total time=   0.1s\n",
      "[CV] END ....................C=0.1, gamma=0.1, kernel=linear; total time=   0.1s\n",
      "[CV] END ....................C=0.1, gamma=0.1, kernel=linear; total time=   0.1s\n",
      "[CV] END ......................C=0.1, gamma=0.01, kernel=rbf; total time=   0.3s\n",
      "[CV] END ......................C=0.1, gamma=0.01, kernel=rbf; total time=   0.3s\n",
      "[CV] END ......................C=0.1, gamma=0.01, kernel=rbf; total time=   0.3s\n",
      "[CV] END ......................C=0.1, gamma=0.01, kernel=rbf; total time=   0.3s\n",
      "[CV] END ......................C=0.1, gamma=0.01, kernel=rbf; total time=   0.3s\n",
      "[CV] END ...................C=0.1, gamma=0.01, kernel=linear; total time=   0.1s\n",
      "[CV] END ...................C=0.1, gamma=0.01, kernel=linear; total time=   0.1s\n",
      "[CV] END ...................C=0.1, gamma=0.01, kernel=linear; total time=   0.1s\n",
      "[CV] END ...................C=0.1, gamma=0.01, kernel=linear; total time=   0.1s\n",
      "[CV] END ...................C=0.1, gamma=0.01, kernel=linear; total time=   0.1s\n",
      "[CV] END .....................C=0.1, gamma=0.001, kernel=rbf; total time=   0.3s\n",
      "[CV] END .....................C=0.1, gamma=0.001, kernel=rbf; total time=   0.3s\n",
      "[CV] END .....................C=0.1, gamma=0.001, kernel=rbf; total time=   0.3s\n",
      "[CV] END .....................C=0.1, gamma=0.001, kernel=rbf; total time=   0.3s\n",
      "[CV] END .....................C=0.1, gamma=0.001, kernel=rbf; total time=   0.3s\n",
      "[CV] END ..................C=0.1, gamma=0.001, kernel=linear; total time=   0.1s\n",
      "[CV] END ..................C=0.1, gamma=0.001, kernel=linear; total time=   0.1s\n",
      "[CV] END ..................C=0.1, gamma=0.001, kernel=linear; total time=   0.1s\n",
      "[CV] END ..................C=0.1, gamma=0.001, kernel=linear; total time=   0.1s\n",
      "[CV] END ..................C=0.1, gamma=0.001, kernel=linear; total time=   0.1s\n",
      "[CV] END ...........................C=1, gamma=1, kernel=rbf; total time=   0.4s\n",
      "[CV] END ...........................C=1, gamma=1, kernel=rbf; total time=   0.4s\n",
      "[CV] END ...........................C=1, gamma=1, kernel=rbf; total time=   0.5s\n",
      "[CV] END ...........................C=1, gamma=1, kernel=rbf; total time=   0.4s\n",
      "[CV] END ...........................C=1, gamma=1, kernel=rbf; total time=   0.4s\n",
      "[CV] END ........................C=1, gamma=1, kernel=linear; total time=   0.1s\n",
      "[CV] END ........................C=1, gamma=1, kernel=linear; total time=   0.1s\n",
      "[CV] END ........................C=1, gamma=1, kernel=linear; total time=   0.1s\n",
      "[CV] END ........................C=1, gamma=1, kernel=linear; total time=   0.1s\n",
      "[CV] END ........................C=1, gamma=1, kernel=linear; total time=   0.1s\n",
      "[CV] END .........................C=1, gamma=0.1, kernel=rbf; total time=   0.4s\n",
      "[CV] END .........................C=1, gamma=0.1, kernel=rbf; total time=   0.4s\n",
      "[CV] END .........................C=1, gamma=0.1, kernel=rbf; total time=   0.4s\n",
      "[CV] END .........................C=1, gamma=0.1, kernel=rbf; total time=   0.4s\n",
      "[CV] END .........................C=1, gamma=0.1, kernel=rbf; total time=   0.4s\n",
      "[CV] END ......................C=1, gamma=0.1, kernel=linear; total time=   0.1s\n",
      "[CV] END ......................C=1, gamma=0.1, kernel=linear; total time=   0.1s\n",
      "[CV] END ......................C=1, gamma=0.1, kernel=linear; total time=   0.1s\n",
      "[CV] END ......................C=1, gamma=0.1, kernel=linear; total time=   0.1s\n",
      "[CV] END ......................C=1, gamma=0.1, kernel=linear; total time=   0.1s\n",
      "[CV] END ........................C=1, gamma=0.01, kernel=rbf; total time=   0.2s\n",
      "[CV] END ........................C=1, gamma=0.01, kernel=rbf; total time=   0.2s\n",
      "[CV] END ........................C=1, gamma=0.01, kernel=rbf; total time=   0.2s\n",
      "[CV] END ........................C=1, gamma=0.01, kernel=rbf; total time=   0.2s\n",
      "[CV] END ........................C=1, gamma=0.01, kernel=rbf; total time=   0.2s\n",
      "[CV] END .....................C=1, gamma=0.01, kernel=linear; total time=   0.1s\n",
      "[CV] END .....................C=1, gamma=0.01, kernel=linear; total time=   0.1s\n",
      "[CV] END .....................C=1, gamma=0.01, kernel=linear; total time=   0.1s\n",
      "[CV] END .....................C=1, gamma=0.01, kernel=linear; total time=   0.1s\n",
      "[CV] END .....................C=1, gamma=0.01, kernel=linear; total time=   0.1s\n",
      "[CV] END .......................C=1, gamma=0.001, kernel=rbf; total time=   0.2s\n",
      "[CV] END .......................C=1, gamma=0.001, kernel=rbf; total time=   0.2s\n",
      "[CV] END .......................C=1, gamma=0.001, kernel=rbf; total time=   0.2s\n",
      "[CV] END .......................C=1, gamma=0.001, kernel=rbf; total time=   0.2s\n",
      "[CV] END .......................C=1, gamma=0.001, kernel=rbf; total time=   0.2s\n",
      "[CV] END ....................C=1, gamma=0.001, kernel=linear; total time=   0.1s\n",
      "[CV] END ....................C=1, gamma=0.001, kernel=linear; total time=   0.1s\n",
      "[CV] END ....................C=1, gamma=0.001, kernel=linear; total time=   0.1s\n",
      "[CV] END ....................C=1, gamma=0.001, kernel=linear; total time=   0.1s\n",
      "[CV] END ....................C=1, gamma=0.001, kernel=linear; total time=   0.1s\n",
      "[CV] END ..........................C=10, gamma=1, kernel=rbf; total time=   0.4s\n",
      "[CV] END ..........................C=10, gamma=1, kernel=rbf; total time=   0.4s\n",
      "[CV] END ..........................C=10, gamma=1, kernel=rbf; total time=   0.4s\n",
      "[CV] END ..........................C=10, gamma=1, kernel=rbf; total time=   0.5s\n",
      "[CV] END ..........................C=10, gamma=1, kernel=rbf; total time=   0.4s\n",
      "[CV] END .......................C=10, gamma=1, kernel=linear; total time=   0.2s\n",
      "[CV] END .......................C=10, gamma=1, kernel=linear; total time=   0.2s\n",
      "[CV] END .......................C=10, gamma=1, kernel=linear; total time=   0.2s\n",
      "[CV] END .......................C=10, gamma=1, kernel=linear; total time=   0.2s\n",
      "[CV] END .......................C=10, gamma=1, kernel=linear; total time=   0.2s\n",
      "[CV] END ........................C=10, gamma=0.1, kernel=rbf; total time=   0.4s\n",
      "[CV] END ........................C=10, gamma=0.1, kernel=rbf; total time=   0.4s\n",
      "[CV] END ........................C=10, gamma=0.1, kernel=rbf; total time=   0.4s\n",
      "[CV] END ........................C=10, gamma=0.1, kernel=rbf; total time=   0.4s\n",
      "[CV] END ........................C=10, gamma=0.1, kernel=rbf; total time=   0.4s\n",
      "[CV] END .....................C=10, gamma=0.1, kernel=linear; total time=   0.2s\n",
      "[CV] END .....................C=10, gamma=0.1, kernel=linear; total time=   0.2s\n",
      "[CV] END .....................C=10, gamma=0.1, kernel=linear; total time=   0.2s\n",
      "[CV] END .....................C=10, gamma=0.1, kernel=linear; total time=   0.2s\n",
      "[CV] END .....................C=10, gamma=0.1, kernel=linear; total time=   0.2s\n",
      "[CV] END .......................C=10, gamma=0.01, kernel=rbf; total time=   0.2s\n",
      "[CV] END .......................C=10, gamma=0.01, kernel=rbf; total time=   0.2s\n",
      "[CV] END .......................C=10, gamma=0.01, kernel=rbf; total time=   0.2s\n",
      "[CV] END .......................C=10, gamma=0.01, kernel=rbf; total time=   0.2s\n",
      "[CV] END .......................C=10, gamma=0.01, kernel=rbf; total time=   0.2s\n",
      "[CV] END ....................C=10, gamma=0.01, kernel=linear; total time=   0.2s\n",
      "[CV] END ....................C=10, gamma=0.01, kernel=linear; total time=   0.2s\n",
      "[CV] END ....................C=10, gamma=0.01, kernel=linear; total time=   0.2s\n",
      "[CV] END ....................C=10, gamma=0.01, kernel=linear; total time=   0.2s\n",
      "[CV] END ....................C=10, gamma=0.01, kernel=linear; total time=   0.2s\n",
      "[CV] END ......................C=10, gamma=0.001, kernel=rbf; total time=   0.1s\n",
      "[CV] END ......................C=10, gamma=0.001, kernel=rbf; total time=   0.1s\n",
      "[CV] END ......................C=10, gamma=0.001, kernel=rbf; total time=   0.1s\n",
      "[CV] END ......................C=10, gamma=0.001, kernel=rbf; total time=   0.1s\n",
      "[CV] END ......................C=10, gamma=0.001, kernel=rbf; total time=   0.1s\n",
      "[CV] END ...................C=10, gamma=0.001, kernel=linear; total time=   0.2s\n",
      "[CV] END ...................C=10, gamma=0.001, kernel=linear; total time=   0.2s\n",
      "[CV] END ...................C=10, gamma=0.001, kernel=linear; total time=   0.2s\n",
      "[CV] END ...................C=10, gamma=0.001, kernel=linear; total time=   0.2s\n",
      "[CV] END ...................C=10, gamma=0.001, kernel=linear; total time=   0.2s\n",
      "[CV] END .........................C=100, gamma=1, kernel=rbf; total time=   0.5s\n",
      "[CV] END .........................C=100, gamma=1, kernel=rbf; total time=   0.4s\n",
      "[CV] END .........................C=100, gamma=1, kernel=rbf; total time=   0.4s\n",
      "[CV] END .........................C=100, gamma=1, kernel=rbf; total time=   0.5s\n",
      "[CV] END .........................C=100, gamma=1, kernel=rbf; total time=   0.4s\n",
      "[CV] END ......................C=100, gamma=1, kernel=linear; total time=   0.7s\n",
      "[CV] END ......................C=100, gamma=1, kernel=linear; total time=   0.8s\n",
      "[CV] END ......................C=100, gamma=1, kernel=linear; total time=   0.9s\n",
      "[CV] END ......................C=100, gamma=1, kernel=linear; total time=   0.7s\n",
      "[CV] END ......................C=100, gamma=1, kernel=linear; total time=   1.4s\n",
      "[CV] END .......................C=100, gamma=0.1, kernel=rbf; total time=   0.4s\n",
      "[CV] END .......................C=100, gamma=0.1, kernel=rbf; total time=   0.4s\n",
      "[CV] END .......................C=100, gamma=0.1, kernel=rbf; total time=   0.4s\n",
      "[CV] END .......................C=100, gamma=0.1, kernel=rbf; total time=   0.4s\n",
      "[CV] END .......................C=100, gamma=0.1, kernel=rbf; total time=   0.4s\n",
      "[CV] END ....................C=100, gamma=0.1, kernel=linear; total time=   0.7s\n",
      "[CV] END ....................C=100, gamma=0.1, kernel=linear; total time=   0.8s\n",
      "[CV] END ....................C=100, gamma=0.1, kernel=linear; total time=   0.9s\n",
      "[CV] END ....................C=100, gamma=0.1, kernel=linear; total time=   0.7s\n",
      "[CV] END ....................C=100, gamma=0.1, kernel=linear; total time=   1.4s\n",
      "[CV] END ......................C=100, gamma=0.01, kernel=rbf; total time=   0.2s\n",
      "[CV] END ......................C=100, gamma=0.01, kernel=rbf; total time=   0.1s\n",
      "[CV] END ......................C=100, gamma=0.01, kernel=rbf; total time=   0.2s\n",
      "[CV] END ......................C=100, gamma=0.01, kernel=rbf; total time=   0.1s\n",
      "[CV] END ......................C=100, gamma=0.01, kernel=rbf; total time=   0.1s\n",
      "[CV] END ...................C=100, gamma=0.01, kernel=linear; total time=   0.7s\n",
      "[CV] END ...................C=100, gamma=0.01, kernel=linear; total time=   0.8s\n",
      "[CV] END ...................C=100, gamma=0.01, kernel=linear; total time=   0.9s\n",
      "[CV] END ...................C=100, gamma=0.01, kernel=linear; total time=   0.7s\n",
      "[CV] END ...................C=100, gamma=0.01, kernel=linear; total time=   1.4s\n",
      "[CV] END .....................C=100, gamma=0.001, kernel=rbf; total time=   0.1s\n",
      "[CV] END .....................C=100, gamma=0.001, kernel=rbf; total time=   0.1s\n",
      "[CV] END .....................C=100, gamma=0.001, kernel=rbf; total time=   0.1s\n",
      "[CV] END .....................C=100, gamma=0.001, kernel=rbf; total time=   0.1s\n",
      "[CV] END .....................C=100, gamma=0.001, kernel=rbf; total time=   0.1s\n",
      "[CV] END ..................C=100, gamma=0.001, kernel=linear; total time=   0.7s\n",
      "[CV] END ..................C=100, gamma=0.001, kernel=linear; total time=   0.8s\n",
      "[CV] END ..................C=100, gamma=0.001, kernel=linear; total time=   0.9s\n",
      "[CV] END ..................C=100, gamma=0.001, kernel=linear; total time=   0.7s\n",
      "[CV] END ..................C=100, gamma=0.001, kernel=linear; total time=   1.4s\n",
      "Best parameters: {'C': 0.1, 'gamma': 1, 'kernel': 'linear'}\n",
      "              precision    recall  f1-score   support\n",
      "\n",
      "        High       0.93      0.91      0.92       317\n",
      "         Low       0.86      0.90      0.88        86\n",
      "      Medium       0.92      0.93      0.92       479\n",
      "\n",
      "    accuracy                           0.92       882\n",
      "   macro avg       0.90      0.91      0.91       882\n",
      "weighted avg       0.92      0.92      0.92       882\n",
      "\n"
     ]
    },
    {
     "data": {
      "text/plain": [
       "array([[287,   0,  30],\n",
       "       [  0,  77,   9],\n",
       "       [ 21,  13, 445]])"
      ]
     },
     "execution_count": 29,
     "metadata": {},
     "output_type": "execute_result"
    }
   ],
   "source": [
    "from sklearn.model_selection import GridSearchCV\n",
    "\n",
    "param_grid = {\n",
    "    'C': [0.1, 1, 10, 100],\n",
    "    'gamma': [1, 0.1, 0.01, 0.001],\n",
    "    'kernel': ['rbf', 'linear']\n",
    "}\n",
    "\n",
    "# Initialize the SVM model\n",
    "model = SVC()\n",
    "# Set up GridSearchCV\n",
    "grid = GridSearchCV(model, param_grid, refit=True, verbose=2, cv=5)\n",
    "grid.fit(X_train_scaled, Y_Train)\n",
    "\n",
    "# Best parameters\n",
    "print(f\"Best parameters: {grid.best_params_}\")\n",
    "\n",
    "# Predictions using the best model\n",
    "y_predicted = grid.predict(X_test_scaled)\n",
    "print(classification_report(Y_Test, y_predicted))\n",
    "confusion_matrix = metrics.confusion_matrix(Y_Test, y_predicted)\n",
    "confusion_matrix"
   ]
  }
 ],
 "metadata": {
  "kernelspec": {
   "display_name": "Python 3 (ipykernel)",
   "language": "python",
   "name": "python3"
  },
  "language_info": {
   "codemirror_mode": {
    "name": "ipython",
    "version": 3
   },
   "file_extension": ".py",
   "mimetype": "text/x-python",
   "name": "python",
   "nbconvert_exporter": "python",
   "pygments_lexer": "ipython3",
   "version": "3.11.8"
  }
 },
 "nbformat": 4,
 "nbformat_minor": 5
}
